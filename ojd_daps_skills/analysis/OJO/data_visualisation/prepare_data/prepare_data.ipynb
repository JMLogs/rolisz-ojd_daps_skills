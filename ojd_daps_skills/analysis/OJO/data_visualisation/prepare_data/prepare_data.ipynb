{
 "cells": [
  {
   "cell_type": "markdown",
   "id": "3f98cc01-b712-443b-8c2b-fedf3ad0df21",
   "metadata": {},
   "source": [
    "# Prepare data for visualisation"
   ]
  },
  {
   "cell_type": "markdown",
   "id": "48ac3d6b-9f09-4e56-a6db-0885ae7b7b9f",
   "metadata": {},
   "source": [
    "## Libraries\n"
   ]
  },
  {
   "cell_type": "code",
   "execution_count": 504,
   "id": "dfaedd86-a915-4377-92f4-8b28d3c47cfd",
   "metadata": {},
   "outputs": [],
   "source": [
    "import json\n",
    "import pandas as pd\n",
    "from collections import Counter\n",
    "from collections import OrderedDict\n",
    "import statistics\n",
    "import math\n",
    "from ojd_daps_skills import get_yaml_config, Path, PROJECT_DIR"
   ]
  },
  {
   "cell_type": "markdown",
   "id": "4a8080f6-1da6-42ce-9ca7-81339543df72",
   "metadata": {},
   "source": [
    "## Parameters"
   ]
  },
  {
   "cell_type": "code",
   "execution_count": 671,
   "id": "62276a90-d6f3-4541-858c-01f741472599",
   "metadata": {},
   "outputs": [],
   "source": [
    "# Number of occupations to include in the data visualisation\n",
    "NO_OCCUPATIONS = 50"
   ]
  },
  {
   "cell_type": "code",
   "execution_count": 677,
   "id": "93942122-337c-41c3-a807-8adfdc0d5ea1",
   "metadata": {},
   "outputs": [],
   "source": [
    "# End dates where we are missing job titles (these job adverts needs to be dropped)\n",
    "DATES_MISSING_DATA = ['2022-06-10', '2022-07-22', '2022-08-19']"
   ]
  },
  {
   "cell_type": "code",
   "execution_count": 672,
   "id": "d41d1501-6930-42e4-890a-2c7fcabcf051",
   "metadata": {},
   "outputs": [],
   "source": [
    "# To hold the final data \n",
    "final_data = []"
   ]
  },
  {
   "cell_type": "markdown",
   "id": "4ae8c4e1-06f9-4d54-8a68-dada822e076e",
   "metadata": {},
   "source": [
    "## Paths"
   ]
  },
  {
   "cell_type": "code",
   "execution_count": 673,
   "id": "2801a884-e8c4-4cdc-bf3c-37c07710fe22",
   "metadata": {},
   "outputs": [],
   "source": [
    "# Path to sample of job adverts\n",
    "PATH_RAW_DATA = str(PROJECT_DIR)+\"/inputs/dedupe_analysis_skills_sample.json\"\n",
    "\n",
    "# Path to csv which contains salaries and job titles of the adverts\n",
    "PATH_SALARIES_TITLES = str(PROJECT_DIR)+\"/inputs/dedupe_analysis_metadata_salaries_titles.csv\"\n",
    "\n",
    "# Path to ESCO taxonomy\n",
    "PATH_ESCO = str(PROJECT_DIR)+\"/inputs/esco_data_formatted.csv\"\n",
    "\n",
    "# Path to ESCO hierarchy\n",
    "PATH_ESCO_HIERARCHY = str(PROJECT_DIR)+\"/inputs/esco_hier_mapper.json\"\n",
    "\n",
    "# Path to prepared data\n",
    "PATH_FINAL_DATA = str(PROJECT_DIR)+\"/ojd_daps_skills/analysis/OJO/data_visualisation/visualisation/data/data.json\"\n"
   ]
  },
  {
   "cell_type": "markdown",
   "id": "759846c5-426b-4fde-8f65-57b8dcf41ec5",
   "metadata": {},
   "source": [
    "## Open files"
   ]
  },
  {
   "cell_type": "code",
   "execution_count": 674,
   "id": "4a3982a5-bdb3-4318-bfb2-f7bf0e2cf5c7",
   "metadata": {},
   "outputs": [],
   "source": [
    "# Load sample of job adverts\n",
    "with open(PATH_RAW_DATA) as f:\n",
    "    raw_data = json.load(f)"
   ]
  },
  {
   "cell_type": "code",
   "execution_count": 675,
   "id": "793283e9-92cf-4e58-82df-52f37bbbf74e",
   "metadata": {},
   "outputs": [],
   "source": [
    "# Load dataframe containing salaries and titles of jobs\n",
    "df_salaries = pd.read_csv(PATH_SALARIES_TITLES, index_col='job_id') "
   ]
  },
  {
   "cell_type": "code",
   "execution_count": 684,
   "id": "3557bbfd-a67a-4078-b9f1-a862c471ad97",
   "metadata": {},
   "outputs": [],
   "source": [
    "# Load ESCO taxonomy\n",
    "df_esco = pd.read_csv(PATH_ESCO, index_col='id') "
   ]
  },
  {
   "cell_type": "code",
   "execution_count": 685,
   "id": "89021938-025a-4028-ac52-3cb295d5d70d",
   "metadata": {},
   "outputs": [],
   "source": [
    "# Load ESCO hierarchy\n",
    "with open(PATH_ESCO_HIERARCHY) as f:\n",
    "    dict_esco_all = json.load(f)"
   ]
  },
  {
   "cell_type": "markdown",
   "id": "203f3bdf-c7cb-4e9e-82b9-1bfa3138246c",
   "metadata": {},
   "source": [
    "## Clean files"
   ]
  },
  {
   "cell_type": "code",
   "execution_count": 680,
   "id": "36ee29f8-e54b-49da-b851-fff49bbadba5",
   "metadata": {},
   "outputs": [],
   "source": [
    "# Delete all job adverts that are missing job titles (due to a glitch)\n",
    "raw_data = [one_job_advert for one_job_advert in raw_data if one_job_advert['end_date_chunk'] not in DATES_MISSING_DATA]"
   ]
  },
  {
   "cell_type": "code",
   "execution_count": 681,
   "id": "a04dc9a5-9355-4509-93a6-1023f923b7e9",
   "metadata": {},
   "outputs": [],
   "source": [
    "# Add salary data into raw_data\n",
    "for one_advert in raw_data:\n",
    "    \n",
    "    min_ann_salary = df_salaries.loc[int(one_advert['job_id'])]['min_annualised_salary']\n",
    "    max_ann_salary = df_salaries.loc[int(one_advert['job_id'])]['max_annualised_salary']\n",
    "   \n",
    "    if min_ann_salary is not None and max_ann_salary is not None:\n",
    "        one_advert['salary'] = (min_ann_salary + max_ann_salary)/2\n",
    "    else:\n",
    "        one_advert['salary'] = None\n",
    "    "
   ]
  },
  {
   "cell_type": "code",
   "execution_count": 682,
   "id": "e04d1bb1-9b96-4687-a224-f04490ea78f3",
   "metadata": {},
   "outputs": [],
   "source": [
    "# Add job title data into raw_data (not really used)\n",
    "for one_advert in raw_data:    \n",
    "    one_advert['job_title'] = df_salaries.loc[int(one_advert['job_id'])]['job_title_raw']    \n",
    "    "
   ]
  },
  {
   "cell_type": "code",
   "execution_count": 686,
   "id": "98537e72-b757-4700-a1d8-fdd473f0ff45",
   "metadata": {},
   "outputs": [],
   "source": [
    "# Only keep the rows of the ESCO taxonomy that contain the preferred skill label\n",
    "# (to prevent duplicates)\n",
    "df_esco = df_esco[df_esco['type']=='preferredLabel']"
   ]
  },
  {
   "cell_type": "code",
   "execution_count": 687,
   "id": "f84db55c-bf63-4ccc-a2d0-3674d5a635da",
   "metadata": {},
   "outputs": [],
   "source": [
    "# Extract the level 1 skill groups for each skill\n",
    "# (level 1 = the second to top skill level\n",
    "# i.e. every 4th entry in the 'hierarchy_levels' column, starting at position 1)\n",
    "df_esco['level_1'] = df_esco['hierarchy_levels'].apply(lambda x: x.replace(\"[\",\"\")\n",
    "                                                                  .replace(\"]\",\"\")\n",
    "                                                                  .replace(\"'\",\"\")\n",
    "                                                                  .split(\", \")[1::4])"
   ]
  },
  {
   "cell_type": "markdown",
   "id": "e209c58c-0bf7-4e06-ad40-046e069be11a",
   "metadata": {},
   "source": [
    "## Occupations"
   ]
  },
  {
   "cell_type": "code",
   "execution_count": 696,
   "id": "632f4dde-6530-441c-b512-d569b8da46c9",
   "metadata": {},
   "outputs": [
    {
     "name": "stdout",
     "output_type": "stream",
     "text": [
      "23%\n"
     ]
    }
   ],
   "source": [
    "# How many adverts are missing an 'occupation'?\n",
    "# It's around 23% - that's why we use 'sector' instead\n",
    "# And 'sector' is more accurately described as occupation groups\n",
    "nan_occup_percent = 100*(sum([1 for one_advert in raw_data if isinstance(one_advert['occupation'], str)==False \n",
    "                   and math.isnan(one_advert['occupation'])])/len(raw_data))\n",
    "print(str(round(nan_occup_percent))+\"%\")"
   ]
  },
  {
   "cell_type": "code",
   "execution_count": 697,
   "id": "5f98aa16-8bf5-4384-98fe-15bad4c7385a",
   "metadata": {},
   "outputs": [],
   "source": [
    "# Find the 50 largest occupational groups (aka 'sectors'), excluding those that are 'other' (e.g. 'other administrators')\n",
    "occupations = Counter([value['sector'] for value in raw_data \n",
    "                       if 'Other' not in value['sector']]).most_common(NO_OCCUPATIONS)"
   ]
  },
  {
   "cell_type": "code",
   "execution_count": 698,
   "id": "134c2542-8c0e-46a4-820e-fd69da904583",
   "metadata": {},
   "outputs": [],
   "source": [
    "# Add the occupations to the final data\n",
    "final_data = [{'occupation': one_occupation[0], \n",
    "               'no_jobs': one_occupation[1]} \n",
    "                   for one_occupation in occupations]"
   ]
  },
  {
   "cell_type": "markdown",
   "id": "3036ca88-3a0c-466a-bd1c-ce7b22b94cea",
   "metadata": {
    "tags": []
   },
   "source": [
    "## Salaries"
   ]
  },
  {
   "cell_type": "code",
   "execution_count": 701,
   "id": "4427285a-4dd2-4f35-b082-d0b6b58197fb",
   "metadata": {},
   "outputs": [],
   "source": [
    "# Loop over the adverts\n",
    "for one_occupation in final_data:\n",
    "    \n",
    "    # Calculate the median salary for those adverts in that occupation\n",
    "    all_salaries = [one_advert['salary'] for one_advert in raw_data if math.isnan(one_advert['salary'])==False \n",
    "                                       and one_advert['sector']==one_occupation['occupation']]\n",
    "    \n",
    "    # Calculate median\n",
    "    median_salary = statistics.median(all_salaries)\n",
    "    \n",
    "    # Add the median to the final data set\n",
    "    one_occupation['median_salary'] = median_salary\n"
   ]
  },
  {
   "cell_type": "code",
   "execution_count": 702,
   "id": "aabcfdaf-7050-482c-b5b3-de8f8ae2d24b",
   "metadata": {},
   "outputs": [],
   "source": [
    "# Reorder the entries in final_data by median salary (high to low)\n",
    "final_data = sorted(final_data, key=lambda d: d['median_salary'], reverse = True) "
   ]
  },
  {
   "cell_type": "markdown",
   "id": "307d1dd0-7efc-493f-a4a1-aa34cabb578e",
   "metadata": {},
   "source": [
    "## Cumulative jobs"
   ]
  },
  {
   "cell_type": "code",
   "execution_count": 703,
   "id": "22304220-9466-4cf5-9a10-61cdb35290f9",
   "metadata": {},
   "outputs": [],
   "source": [
    "# Add in the cumulative number of jobs across occupations \n",
    "# (this is to assist with placement in the data viz)\n",
    "cumul_jobs = 0\n",
    "for one_occupation in final_data:\n",
    "    one_occupation['cumul_jobs'] = cumul_jobs\n",
    "    cumul_jobs += one_occupation['no_jobs']"
   ]
  },
  {
   "cell_type": "markdown",
   "id": "d9f05147-b24d-4504-b507-da97f6cb36ff",
   "metadata": {},
   "source": [
    "## Locations"
   ]
  },
  {
   "cell_type": "code",
   "execution_count": 704,
   "id": "04f70d8e-5c06-4b90-a57d-9b5d9cfdf170",
   "metadata": {},
   "outputs": [],
   "source": [
    "# For EACH occupation add in the fraction of adverts that are for positions in London\n",
    "for one_occupation in final_data:\n",
    "    \n",
    "    # Total number of adverts for positions in London (in that occupation)\n",
    "    count_london = sum([1 for value in raw_data if value['itl_1_name']==\"London\" \n",
    "                        and value['sector']==one_occupation['occupation']])\n",
    "    \n",
    "    # Add in percetnage\n",
    "    one_occupation['frac_london'] = count_london/one_occupation['no_jobs']\n",
    "    "
   ]
  },
  {
   "cell_type": "code",
   "execution_count": 705,
   "id": "896cc536-8f7c-40ab-b718-e470856def10",
   "metadata": {},
   "outputs": [
    {
     "name": "stdout",
     "output_type": "stream",
     "text": [
      "Percentage of ALL adverts in London 21.32386277769382\n"
     ]
    }
   ],
   "source": [
    "# For ALL occupations, calculate the fraction of adverts that are for positions in London\n",
    "# (this figure is inserted manually into the data viz)\n",
    "\n",
    "overall_frac_london = 100*sum([1 for value in raw_data if value['itl_1_name']==\"London\"])/len(raw_data)\n",
    "\n",
    "print(\"Percentage of ALL adverts in London {}\".format(overall_frac_london))\n"
   ]
  },
  {
   "cell_type": "markdown",
   "id": "16aea188-469d-4ae3-b9f9-39030588ab9e",
   "metadata": {},
   "source": [
    "## Skill groups"
   ]
  },
  {
   "cell_type": "code",
   "execution_count": 710,
   "id": "579dc089-5dd4-48c4-9c26-6e8b37499d7e",
   "metadata": {},
   "outputs": [],
   "source": [
    "# Find the maxium length of the skill groups IDs \n",
    "# so as to distinguish between these groups and \n",
    "# the individual skills which have longer IDs)\n",
    "MAX_LENGTH_GROUP = max(len(key) for key in dict_esco_all)"
   ]
  },
  {
   "cell_type": "code",
   "execution_count": 711,
   "id": "b605d3a4-dd5e-4a43-a9d4-4ceafbca7648",
   "metadata": {},
   "outputs": [],
   "source": [
    "# Loop over each occupation\n",
    "for one_occupation in final_data:\n",
    "    \n",
    "    # Extract all adverts for that occupation\n",
    "    raw_data_one_occup = [one_advert for one_advert in raw_data if one_advert['sector']==one_occupation['occupation']]\n",
    "    \n",
    "    # Calculate the percentage of adverts that contain at least one skill in the broad skill group (for each group)\n",
    "    # 1. Form a dictionary of level one skill groups to store results\n",
    "    # 2. Extract the ESCO IDs from the skills in each advert (both skill IDs and skill group IDs)\n",
    "    # 3. Form a the list of unique Level 1 skill groups associated with one job advert\n",
    "    dict_esco_l1 = extract_l1_groups(raw_data_one_occup, dict_esco_all, MAX_LENGTH_GROUP)\n",
    "                \n",
    "    # Add in the number of jobs to each skill entry (needed for the visualisation)\n",
    "    for _, one_skill_group in dict_esco_l1.items():\n",
    "        one_skill_group['no_jobs'] = one_occupation['no_jobs']\n",
    "\n",
    "    # Save the results\n",
    "    one_occupation['skills'] = [value for key, value in dict_esco_l1.items()]\n",
    "        "
   ]
  },
  {
   "cell_type": "markdown",
   "id": "e1c85dc8-0912-4439-a27c-a52866915b6a",
   "metadata": {},
   "source": [
    "## Save"
   ]
  },
  {
   "cell_type": "code",
   "execution_count": 712,
   "id": "76e173f5-dba6-4471-bb16-d4891345d16a",
   "metadata": {},
   "outputs": [],
   "source": [
    "with open(PATH_FINAL_DATA, 'w') as f:\n",
    "    json.dump(final_data, f)"
   ]
  },
  {
   "cell_type": "markdown",
   "id": "08115cc0-b6bc-4873-8398-468bde1eb473",
   "metadata": {
    "tags": []
   },
   "source": [
    "## Extra"
   ]
  },
  {
   "cell_type": "code",
   "execution_count": 726,
   "id": "e6b71a2d-279e-43cd-874a-cadf9c079587",
   "metadata": {},
   "outputs": [
    {
     "data": {
      "text/plain": [
       "[('Assistant Locality Manager', 8),\n",
       " ('Supervising Social Worker', 7),\n",
       " ('Social Worker', 6),\n",
       " ('Qualified Social Worker', 6),\n",
       " ('Occupational Therapist', 5),\n",
       " ('Family Court Adviser Social Worker', 4),\n",
       " ('Qualified Social Worker - Child Protection Team', 3),\n",
       " ('Care Practitioner', 3),\n",
       " ('Qualified Social Worker - Adults Learning Disabilities', 3),\n",
       " ('Family Court Advisor', 3)]"
      ]
     },
     "execution_count": 726,
     "metadata": {},
     "output_type": "execute_result"
    }
   ],
   "source": [
    "# Find the most common job titles for a given sector \n",
    "# (used to rename some sectors that have vague titles)\n",
    "Counter([one_advert['job_title'] for one_advert in raw_data if one_advert['sector']=='Qualified Social Worker']).most_common(10)"
   ]
  },
  {
   "cell_type": "markdown",
   "id": "7beb77cf-f553-4b90-bc73-8de4ba9346a4",
   "metadata": {},
   "source": [
    "## Functions"
   ]
  },
  {
   "cell_type": "code",
   "execution_count": 585,
   "id": "d0cbb47d-f63a-4dd9-a4cc-ae7dd7d40f58",
   "metadata": {},
   "outputs": [],
   "source": [
    "# Extract the level one ESCO skill groups for a group of adverts\n",
    "def extract_l1_groups(raw_data_one_occup, dict_esco_all, MAX_LENGTH_GROUP):\n",
    "    \n",
    "    # Create an empty dictionary of the level 1 ESCO hierarchy to capture counts\n",
    "    dict_esco_l1 = create_dict_esco_l1(dict_esco_all)    \n",
    "\n",
    "    # Loop over each advert\n",
    "    for one_advert in raw_data_one_occup:\n",
    "        \n",
    "        # If the advert contains at least one skill\n",
    "        if one_advert['SKILL'] is not None:\n",
    "\n",
    "            # Form a list of ESCO IDs containing 'UNIQUE skill IDs' and 'ALL mentions of skill groups'\n",
    "            esco_ids = extract_esco_ids(one_advert['SKILL'], MAX_LENGTH_GROUP)\n",
    "\n",
    "            # Extract unique level one skill groups for each ESCO ID\n",
    "            level_one_groups = find_level_one_groups(esco_ids, MAX_LENGTH_GROUP, dict_esco_l1)\n",
    "\n",
    "            # Add the level one skill groups to the dictionary of the level 1 ESCO hierarchy\n",
    "            for one_group in level_one_groups:\n",
    "                dict_esco_l1[one_group]['weight'] += 1\n",
    "                \n",
    "    # Scale the weights by the number of adverts\n",
    "    for key, value in dict_esco_l1.items():\n",
    "        value['percentage'] = 100*value['weight']/len(raw_data_one_occup)\n",
    "    \n",
    "    return dict_esco_l1\n"
   ]
  },
  {
   "cell_type": "code",
   "execution_count": 407,
   "id": "95a2d8ae-104e-43f9-bba0-1482793ebfff",
   "metadata": {},
   "outputs": [],
   "source": [
    "# Takes the whole ESCO hierarchy and creates a dictionary containing\n",
    "# just the level one groups (the second to top layer in the taxonomy)\n",
    "def create_dict_esco_l1(dict_esco_all):\n",
    "    \n",
    "    # Dictionary of the broadest skill groups\n",
    "    dict_broad = {\"K\": \"knowledge\", \n",
    "                  \"A\": \"attitudes and values\",  \n",
    "                  \"T\": \"transversal competences\", \n",
    "                  \"S\": \"skills\", \n",
    "                  \"L\": \"language skills and knowledge\"}\n",
    "\n",
    "    # Dictionary of the level 1 skill groups (to store results)\n",
    "    dict_esco_l1 = {key: {'name': value, 'weight': 0, 'broad': dict_broad[key[0]]} for key, value in dict_esco_all.items() if \n",
    "                (key[0]!='K' and len(key)==2) or \n",
    "                (key[0]=='K' and len(key)==3)}\n",
    "    \n",
    "    # Reorder\n",
    "    dict_esco_l1 = OrderedDict(sorted(dict_esco_l1.items(), key=lambda x: x[1]['broad']))  \n",
    "    \n",
    "    return dict_esco_l1  "
   ]
  },
  {
   "cell_type": "code",
   "execution_count": 399,
   "id": "ed0b039f-b64f-4b2b-9bf3-a159899c4912",
   "metadata": {},
   "outputs": [],
   "source": [
    "# Extract the ESCO IDs from the skills in each advert\n",
    "# The IDs are a mixture of skill IDs and the IDs of groups\n",
    "def extract_esco_ids(one_advert_skills, MAX_LENGTH_GROUP):\n",
    "    \n",
    "    ## Loop over skills in advert\n",
    "    esco_ids = []\n",
    "    for one_entry in one_advert_skills:\n",
    "\n",
    "        ## One ESCO ID\n",
    "        one_esco_id = one_entry[1][1]\n",
    "\n",
    "        ## Consider storing the ID\n",
    "        # If the ID refers to a skill group, store it\n",
    "        if len(one_esco_id)<=MAX_LENGTH_GROUP:\n",
    "            esco_ids.append(one_esco_id)\n",
    "            \n",
    "        # If the ID refers to an individual skill...\n",
    "        else:\n",
    "            # ..only store if it hasn't been captured before\n",
    "            if one_esco_id not in esco_ids:\n",
    "                esco_ids.append(one_esco_id)\n",
    "                \n",
    "    return esco_ids\n"
   ]
  },
  {
   "cell_type": "code",
   "execution_count": 708,
   "id": "40be3d43-9132-468d-93e5-22b398b3594b",
   "metadata": {},
   "outputs": [],
   "source": [
    "# Find the list of unique Level 1 groups associated with one job advert\n",
    "def find_level_one_groups(esco_ids, MAX_LENGTH_GROUP, dict_esco_l1):\n",
    "\n",
    "    # Loop over each ESCO ID\n",
    "    level_one_groups = []\n",
    "    for one_esco_id in esco_ids:\n",
    "\n",
    "        # If the ESCO ID refers to a SKILL GROUP\n",
    "        if len(one_esco_id)<=MAX_LENGTH_GROUP:\n",
    "            \n",
    "            # If the group is a type of knowledge\n",
    "            if one_esco_id[0]=='K':\n",
    "                one_l1_group = one_esco_id[0:3] \n",
    "            else: \n",
    "                one_l1_group = one_esco_id[0:2]\n",
    "                                        \n",
    "            # Add level one group \n",
    "            level_one_groups.append(one_l1_group)\n",
    "                \n",
    "                \n",
    "        # If the ESCO ID refers to an INDIVIDUAL (and unique) SKILL\n",
    "        else:\n",
    "            # The multiple skill groups associated with that one skill\n",
    "            multiple_l1_groups = df_esco.loc[one_esco_id]['level_1']\n",
    "            level_one_groups.extend(multiple_l1_groups)\n",
    "                \n",
    "    # Get rid of duplicate level one groups\n",
    "    level_one_groups = list(set(level_one_groups))\n",
    "    \n",
    "    return level_one_groups\n",
    "                "
   ]
  }
 ],
 "metadata": {
  "kernelspec": {
   "display_name": "Python 3 (ipykernel)",
   "language": "python",
   "name": "python3"
  },
  "language_info": {
   "codemirror_mode": {
    "name": "ipython",
    "version": 3
   },
   "file_extension": ".py",
   "mimetype": "text/x-python",
   "name": "python",
   "nbconvert_exporter": "python",
   "pygments_lexer": "ipython3",
   "version": "3.10.8"
  }
 },
 "nbformat": 4,
 "nbformat_minor": 5
}
